{
 "cells": [
  {
   "cell_type": "markdown",
   "id": "71bc9324-8c3c-4712-8d46-54fb5f5d486c",
   "metadata": {},
   "source": [
    "## Brand Clustering"
   ]
  },
  {
   "cell_type": "markdown",
   "id": "b50206f4-aef5-4115-85e3-119dcaf1c7ac",
   "metadata": {},
   "source": [
    "#### Importing Libraries"
   ]
  },
  {
   "cell_type": "code",
   "execution_count": 70,
   "id": "552b46ba-15df-4b07-9f7f-2728a7e7c30b",
   "metadata": {},
   "outputs": [],
   "source": [
    "import pandas as pd\n",
    "import numpy as np\n",
    "import matplotlib.pyplot as plt\n",
    "import seaborn as sns"
   ]
  },
  {
   "cell_type": "markdown",
   "id": "d9351feb-75a2-4e84-ad26-07e303a9d7fb",
   "metadata": {},
   "source": [
    "#### Load Dataset"
   ]
  },
  {
   "cell_type": "code",
   "execution_count": 71,
   "id": "6a777788-b425-4b9e-a15b-47a3e45ad69e",
   "metadata": {},
   "outputs": [
    {
     "data": {
      "text/html": [
       "<div>\n",
       "<style scoped>\n",
       "    .dataframe tbody tr th:only-of-type {\n",
       "        vertical-align: middle;\n",
       "    }\n",
       "\n",
       "    .dataframe tbody tr th {\n",
       "        vertical-align: top;\n",
       "    }\n",
       "\n",
       "    .dataframe thead th {\n",
       "        text-align: right;\n",
       "    }\n",
       "</style>\n",
       "<table border=\"1\" class=\"dataframe\">\n",
       "  <thead>\n",
       "    <tr style=\"text-align: right;\">\n",
       "      <th></th>\n",
       "      <th>Product Name</th>\n",
       "      <th>Product ID</th>\n",
       "      <th>Brand</th>\n",
       "      <th>Description</th>\n",
       "      <th>Rating</th>\n",
       "      <th>Reviews</th>\n",
       "    </tr>\n",
       "  </thead>\n",
       "  <tbody>\n",
       "    <tr>\n",
       "      <th>0</th>\n",
       "      <td>Women's adidas Originals NMD_Racer Primeknit S...</td>\n",
       "      <td>AH2430</td>\n",
       "      <td>Adidas Adidas ORIGINALS</td>\n",
       "      <td>Channeling the streamlined look of an '80s rac...</td>\n",
       "      <td>4.8</td>\n",
       "      <td>41</td>\n",
       "    </tr>\n",
       "    <tr>\n",
       "      <th>1</th>\n",
       "      <td>Women's adidas Originals Sleek Shoes</td>\n",
       "      <td>G27341</td>\n",
       "      <td>Adidas ORIGINALS</td>\n",
       "      <td>A modern take on adidas sport heritage, tailor...</td>\n",
       "      <td>3.3</td>\n",
       "      <td>24</td>\n",
       "    </tr>\n",
       "    <tr>\n",
       "      <th>2</th>\n",
       "      <td>Women's adidas Swim Puka Slippers</td>\n",
       "      <td>CM0081</td>\n",
       "      <td>Adidas CORE / NEO</td>\n",
       "      <td>These adidas Puka slippers for women's come wi...</td>\n",
       "      <td>2.6</td>\n",
       "      <td>37</td>\n",
       "    </tr>\n",
       "  </tbody>\n",
       "</table>\n",
       "</div>"
      ],
      "text/plain": [
       "                                        Product Name Product ID  \\\n",
       "0  Women's adidas Originals NMD_Racer Primeknit S...     AH2430   \n",
       "1               Women's adidas Originals Sleek Shoes     G27341   \n",
       "2                  Women's adidas Swim Puka Slippers     CM0081   \n",
       "\n",
       "                     Brand                                        Description  \\\n",
       "0  Adidas Adidas ORIGINALS  Channeling the streamlined look of an '80s rac...   \n",
       "1         Adidas ORIGINALS  A modern take on adidas sport heritage, tailor...   \n",
       "2        Adidas CORE / NEO  These adidas Puka slippers for women's come wi...   \n",
       "\n",
       "   Rating  Reviews  \n",
       "0     4.8       41  \n",
       "1     3.3       24  \n",
       "2     2.6       37  "
      ]
     },
     "execution_count": 71,
     "metadata": {},
     "output_type": "execute_result"
    }
   ],
   "source": [
    "product = pd.read_csv('Adidas Vs Nike.csv', usecols=['Product Name', 'Product ID', 'Brand', 'Description', 'Rating', 'Reviews'])\n",
    "product.head(3)"
   ]
  },
  {
   "cell_type": "markdown",
   "id": "895bba47-04c5-4206-81bd-9e110c4bbd2f",
   "metadata": {},
   "source": [
    "## Data Cleaning"
   ]
  },
  {
   "cell_type": "markdown",
   "id": "2eddb6df-f7cf-4195-bd37-e2e15c031888",
   "metadata": {},
   "source": [
    "#### Rename Columns"
   ]
  },
  {
   "cell_type": "code",
   "execution_count": 72,
   "id": "1d788eef-8968-4285-8cf6-51a28018e0bc",
   "metadata": {},
   "outputs": [],
   "source": [
    "product.rename(columns={'Product Name':'name','Product ID':'id','Brand':'brand','Description':'description','Rating':'rating',\n",
    "                        'Reviews':'reviews'}, inplace=True)"
   ]
  },
  {
   "cell_type": "markdown",
   "id": "319f9eb2-a199-4d6b-a7c5-4619dd10660a",
   "metadata": {},
   "source": [
    "#### Duplicates Removal"
   ]
  },
  {
   "cell_type": "code",
   "execution_count": 73,
   "id": "1a288322-ba96-4a61-b342-2bed82dea90a",
   "metadata": {},
   "outputs": [
    {
     "data": {
      "text/plain": [
       "88"
      ]
     },
     "execution_count": 73,
     "metadata": {},
     "output_type": "execute_result"
    }
   ],
   "source": [
    "product.duplicated().sum()"
   ]
  },
  {
   "cell_type": "code",
   "execution_count": 74,
   "id": "828bd613-22bc-40b8-8cdb-2cece1be6d43",
   "metadata": {},
   "outputs": [],
   "source": [
    "product.drop_duplicates(inplace=True)"
   ]
  },
  {
   "cell_type": "markdown",
   "id": "72e17d6a-2557-4df5-bbe8-1faf761d14f4",
   "metadata": {},
   "source": [
    "#### Missing Values"
   ]
  },
  {
   "cell_type": "code",
   "execution_count": 75,
   "id": "69112ef8-93f0-4776-8eb0-5beeadcdeb92",
   "metadata": {},
   "outputs": [
    {
     "data": {
      "text/plain": [
       "name           0\n",
       "id             0\n",
       "brand          0\n",
       "description    3\n",
       "rating         0\n",
       "reviews        0\n",
       "dtype: int64"
      ]
     },
     "execution_count": 75,
     "metadata": {},
     "output_type": "execute_result"
    }
   ],
   "source": [
    "product.isnull().sum()"
   ]
  },
  {
   "cell_type": "code",
   "execution_count": 76,
   "id": "0834dac4-f4a4-463f-9e1e-77199d2a7fd2",
   "metadata": {},
   "outputs": [],
   "source": [
    "product.dropna(inplace=True)"
   ]
  },
  {
   "cell_type": "markdown",
   "id": "8d280308-59c4-4491-ad37-c8a77dde51e7",
   "metadata": {},
   "source": [
    "#### Reset Index"
   ]
  },
  {
   "cell_type": "code",
   "execution_count": 77,
   "id": "5e3fbde7-bf2d-4f62-beb9-5ca89fe27b73",
   "metadata": {},
   "outputs": [],
   "source": [
    "product.reset_index(inplace=True)"
   ]
  },
  {
   "cell_type": "markdown",
   "id": "7d91bf56-9dbb-4d10-a70f-5d2e8a6092a3",
   "metadata": {},
   "source": [
    "#### Drop Unwanted Columns"
   ]
  },
  {
   "cell_type": "code",
   "execution_count": 78,
   "id": "4d6e7b41-94e8-47b9-88d0-c1b7e5410281",
   "metadata": {},
   "outputs": [],
   "source": [
    "product.drop(columns=['index'], inplace=True)"
   ]
  },
  {
   "cell_type": "markdown",
   "id": "b1c0819e-db0c-4a53-ac63-21ffb877ae23",
   "metadata": {},
   "source": [
    "## EDA"
   ]
  },
  {
   "cell_type": "code",
   "execution_count": 79,
   "id": "0c62a85b-fdfa-412d-ae39-7f3933ad0a10",
   "metadata": {},
   "outputs": [],
   "source": [
    "import warnings\n",
    "warnings.filterwarnings('ignore')"
   ]
  },
  {
   "cell_type": "code",
   "execution_count": 180,
   "id": "ed6a442a-74f0-4156-a78d-e10420b076b9",
   "metadata": {},
   "outputs": [
    {
     "data": {
      "image/png": "[encoded data removed]",
      "text/plain": [
       "<Figure size 300x300 with 1 Axes>"
      ]
     },
     "metadata": {},
     "output_type": "display_data"
    }
   ],
   "source": [
    "sns.displot(x = \"rating\", data = product, bins = 5, height=3)\n",
    "plt.title('Ratings count')\n",
    "plt.show()"
   ]
  },
  {
   "cell_type": "code",
   "execution_count": 179,
   "id": "8c70e9ad-f205-4d21-88e4-065122bd7678",
   "metadata": {},
   "outputs": [
    {
     "data": {
      "image/png": "[encoded data removed]",
      "text/plain": [
       "<Figure size 300x300 with 1 Axes>"
      ]
     },
     "metadata": {},
     "output_type": "display_data"
    }
   ],
   "source": [
    "sns.displot(x = \"reviews\", data = product, height=3, bins = 9)\n",
    "plt.title('Reviews Count')\n",
    "plt.show()"
   ]
  },
  {
   "cell_type": "code",
   "execution_count": 82,
   "id": "545cba14-5700-4118-97fc-ceda51594414",
   "metadata": {},
   "outputs": [],
   "source": [
    "product['brand'] = product['brand'].apply(lambda x: 'adidas' if 'adidas' in x.lower() else 'nike')"
   ]
  },
  {
   "cell_type": "code",
   "execution_count": 178,
   "id": "065ae9b9-349a-4d67-a291-995a74c81555",
   "metadata": {},
   "outputs": [
    {
     "data": {
      "image/png": "[encoded data removed]",
      "text/plain": [
       "<Figure size 200x300 with 1 Axes>"
      ]
     },
     "metadata": {},
     "output_type": "display_data"
    }
   ],
   "source": [
    "plt.figure(figsize=(2, 3))\n",
    "sns.countplot(x = 'brand', data = product)\n",
    "plt.title('Adidas vs Nike')\n",
    "plt.show()"
   ]
  },
  {
   "cell_type": "markdown",
   "id": "e9e32fe7-6e08-4528-8e79-e423e925012f",
   "metadata": {},
   "source": [
    "## Data Splitting"
   ]
  },
  {
   "cell_type": "code",
   "execution_count": 84,
   "id": "3d0964b7-6949-4767-a3a6-e5b757f75193",
   "metadata": {},
   "outputs": [
    {
     "data": {
      "text/plain": [
       "((3177, 5), (3177,))"
      ]
     },
     "execution_count": 84,
     "metadata": {},
     "output_type": "execute_result"
    }
   ],
   "source": [
    "X = product.drop(columns=['brand'])\n",
    "y = product['brand']\n",
    "X.shape, y.shape"
   ]
  },
  {
   "cell_type": "markdown",
   "id": "045f8fea-70de-456f-b3fd-ffb267760337",
   "metadata": {},
   "source": [
    "## Under Sampling"
   ]
  },
  {
   "cell_type": "code",
   "execution_count": 85,
   "id": "024a4caa-d1bc-46e4-9de4-e4b08fd3f464",
   "metadata": {},
   "outputs": [
    {
     "data": {
      "text/plain": [
       "((1104, 5), (1104,))"
      ]
     },
     "execution_count": 85,
     "metadata": {},
     "output_type": "execute_result"
    }
   ],
   "source": [
    "from imblearn.under_sampling import RandomUnderSampler\n",
    "\n",
    "sampler = RandomUnderSampler()\n",
    "X_sampled, y_sampled = sampler.fit_resample(X, y)\n",
    "\n",
    "X_sampled.shape, y_sampled.shape"
   ]
  },
  {
   "cell_type": "code",
   "execution_count": 177,
   "id": "6d94bf55-9a3f-47d0-bd4a-980484b10d04",
   "metadata": {},
   "outputs": [
    {
     "data": {
      "image/png": "[encoded data removed]",
      "text/plain": [
       "<Figure size 300x300 with 1 Axes>"
      ]
     },
     "metadata": {},
     "output_type": "display_data"
    }
   ],
   "source": [
    "sns.displot(data = y_sampled, height=3)\n",
    "plt.title('Adidas vs Nike after Under Sampling')\n",
    "plt.show()"
   ]
  },
  {
   "cell_type": "markdown",
   "id": "8956c911-9ff4-46d2-8031-61b2a9fcc561",
   "metadata": {},
   "source": [
    "## Data Preprocessing"
   ]
  },
  {
   "cell_type": "markdown",
   "id": "c04797f4-ed9a-42a6-a078-f9d960ecf5ac",
   "metadata": {},
   "source": [
    "#### Analyzer"
   ]
  },
  {
   "cell_type": "code",
   "execution_count": 86,
   "id": "6a65b694-1cc7-450d-8295-2931a69c0356",
   "metadata": {},
   "outputs": [],
   "source": [
    "import string\n",
    "from nltk.stem import PorterStemmer\n",
    "from nltk.tokenize import word_tokenize\n",
    "from nltk.corpus import stopwords\n",
    "\n",
    "stop_words = set(stopwords.words('english'))\n",
    "ps = PorterStemmer()\n",
    "\n",
    "def analyzer(text):\n",
    "    text = ''.join([i for i in text if i not in string.punctuation])\n",
    "    return ' '.join([ps.stem(i.lower()) for i in word_tokenize(text) if i not in stop_words and not i.isnumeric()])"
   ]
  },
  {
   "cell_type": "markdown",
   "id": "f65db7b3-adda-4226-a266-818327d364db",
   "metadata": {},
   "source": [
    "#### Column Transformer"
   ]
  },
  {
   "cell_type": "code",
   "execution_count": 87,
   "id": "41544564-0ff6-473b-912b-ddf9667ee646",
   "metadata": {},
   "outputs": [
    {
     "data": {
      "text/html": [
       "<style>#sk-container-id-6 {color: black;background-color: white;}#sk-container-id-6 pre{padding: 0;}#sk-container-id-6 div.sk-toggleable {background-color: white;}#sk-container-id-6 label.sk-toggleable__label {cursor: pointer;display: block;width: 100%;margin-bottom: 0;padding: 0.3em;box-sizing: border-box;text-align: center;}#sk-container-id-6 label.sk-toggleable__label-arrow:before {content: \"▸\";float: left;margin-right: 0.25em;color: #696969;}#sk-container-id-6 label.sk-toggleable__label-arrow:hover:before {color: black;}#sk-container-id-6 div.sk-estimator:hover label.sk-toggleable__label-arrow:before {color: black;}#sk-container-id-6 div.sk-toggleable__content {max-height: 0;max-width: 0;overflow: hidden;text-align: left;background-color: #f0f8ff;}#sk-container-id-6 div.sk-toggleable__content pre {margin: 0.2em;color: black;border-radius: 0.25em;background-color: #f0f8ff;}#sk-container-id-6 input.sk-toggleable__control:checked~div.sk-toggleable__content {max-height: 200px;max-width: 100%;overflow: auto;}#sk-container-id-6 input.sk-toggleable__control:checked~label.sk-toggleable__label-arrow:before {content: \"▾\";}#sk-container-id-6 div.sk-estimator input.sk-toggleable__control:checked~label.sk-toggleable__label {background-color: #d4ebff;}#sk-container-id-6 div.sk-label input.sk-toggleable__control:checked~label.sk-toggleable__label {background-color: #d4ebff;}#sk-container-id-6 input.sk-hidden--visually {border: 0;clip: rect(1px 1px 1px 1px);clip: rect(1px, 1px, 1px, 1px);height: 1px;margin: -1px;overflow: hidden;padding: 0;position: absolute;width: 1px;}#sk-container-id-6 div.sk-estimator {font-family: monospace;background-color: #f0f8ff;border: 1px dotted black;border-radius: 0.25em;box-sizing: border-box;margin-bottom: 0.5em;}#sk-container-id-6 div.sk-estimator:hover {background-color: #d4ebff;}#sk-container-id-6 div.sk-parallel-item::after {content: \"\";width: 100%;border-bottom: 1px solid gray;flex-grow: 1;}#sk-container-id-6 div.sk-label:hover label.sk-toggleable__label {background-color: #d4ebff;}#sk-container-id-6 div.sk-serial::before {content: \"\";position: absolute;border-left: 1px solid gray;box-sizing: border-box;top: 0;bottom: 0;left: 50%;z-index: 0;}#sk-container-id-6 div.sk-serial {display: flex;flex-direction: column;align-items: center;background-color: white;padding-right: 0.2em;padding-left: 0.2em;position: relative;}#sk-container-id-6 div.sk-item {position: relative;z-index: 1;}#sk-container-id-6 div.sk-parallel {display: flex;align-items: stretch;justify-content: center;background-color: white;position: relative;}#sk-container-id-6 div.sk-item::before, #sk-container-id-6 div.sk-parallel-item::before {content: \"\";position: absolute;border-left: 1px solid gray;box-sizing: border-box;top: 0;bottom: 0;left: 50%;z-index: -1;}#sk-container-id-6 div.sk-parallel-item {display: flex;flex-direction: column;z-index: 1;position: relative;background-color: white;}#sk-container-id-6 div.sk-parallel-item:first-child::after {align-self: flex-end;width: 50%;}#sk-container-id-6 div.sk-parallel-item:last-child::after {align-self: flex-start;width: 50%;}#sk-container-id-6 div.sk-parallel-item:only-child::after {width: 0;}#sk-container-id-6 div.sk-dashed-wrapped {border: 1px dashed gray;margin: 0 0.4em 0.5em 0.4em;box-sizing: border-box;padding-bottom: 0.4em;background-color: white;}#sk-container-id-6 div.sk-label label {font-family: monospace;font-weight: bold;display: inline-block;line-height: 1.2em;}#sk-container-id-6 div.sk-label-container {text-align: center;}#sk-container-id-6 div.sk-container {/* jupyter's `normalize.less` sets `[hidden] { display: none; }` but bootstrap.min.css set `[hidden] { display: none !important; }` so we also need the `!important` here to be able to override the default hidden behavior on the sphinx rendered scikit-learn.org. See: https://github.com/scikit-learn/scikit-learn/issues/21755 */display: inline-block !important;position: relative;}#sk-container-id-6 div.sk-text-repr-fallback {display: none;}</style><div id=\"sk-container-id-6\" class=\"sk-top-container\"><div class=\"sk-text-repr-fallback\"><pre>ColumnTransformer(remainder=&#x27;passthrough&#x27;, sparse_threshold=0,\n",
       "                  transformers=[(&#x27;min-max&#x27;, MinMaxScaler(),\n",
       "                                 [&#x27;rating&#x27;, &#x27;reviews&#x27;]),\n",
       "                                (&#x27;encoder&#x27;,\n",
       "                                 OrdinalEncoder(categories=[array([&#x27;130690-017&#x27;, &#x27;133000-106&#x27;, &#x27;280648&#x27;, ..., &#x27;S80662&#x27;, &#x27;S80807&#x27;,\n",
       "       &#x27;S82260&#x27;], dtype=object)]),\n",
       "                                 [&#x27;id&#x27;])])</pre><b>In a Jupyter environment, please rerun this cell to show the HTML representation or trust the notebook. <br />On GitHub, the HTML representation is unable to render, please try loading this page with nbviewer.org.</b></div><div class=\"sk-container\" hidden><div class=\"sk-item sk-dashed-wrapped\"><div class=\"sk-label-container\"><div class=\"sk-label sk-toggleable\"><input class=\"sk-toggleable__control sk-hidden--visually\" id=\"sk-estimator-id-36\" type=\"checkbox\" ><label for=\"sk-estimator-id-36\" class=\"sk-toggleable__label sk-toggleable__label-arrow\">ColumnTransformer</label><div class=\"sk-toggleable__content\"><pre>ColumnTransformer(remainder=&#x27;passthrough&#x27;, sparse_threshold=0,\n",
       "                  transformers=[(&#x27;min-max&#x27;, MinMaxScaler(),\n",
       "                                 [&#x27;rating&#x27;, &#x27;reviews&#x27;]),\n",
       "                                (&#x27;encoder&#x27;,\n",
       "                                 OrdinalEncoder(categories=[array([&#x27;130690-017&#x27;, &#x27;133000-106&#x27;, &#x27;280648&#x27;, ..., &#x27;S80662&#x27;, &#x27;S80807&#x27;,\n",
       "       &#x27;S82260&#x27;], dtype=object)]),\n",
       "                                 [&#x27;id&#x27;])])</pre></div></div></div><div class=\"sk-parallel\"><div class=\"sk-parallel-item\"><div class=\"sk-item\"><div class=\"sk-label-container\"><div class=\"sk-label sk-toggleable\"><input class=\"sk-toggleable__control sk-hidden--visually\" id=\"sk-estimator-id-37\" type=\"checkbox\" ><label for=\"sk-estimator-id-37\" class=\"sk-toggleable__label sk-toggleable__label-arrow\">min-max</label><div class=\"sk-toggleable__content\"><pre>[&#x27;rating&#x27;, &#x27;reviews&#x27;]</pre></div></div></div><div class=\"sk-serial\"><div class=\"sk-item\"><div class=\"sk-estimator sk-toggleable\"><input class=\"sk-toggleable__control sk-hidden--visually\" id=\"sk-estimator-id-38\" type=\"checkbox\" ><label for=\"sk-estimator-id-38\" class=\"sk-toggleable__label sk-toggleable__label-arrow\">MinMaxScaler</label><div class=\"sk-toggleable__content\"><pre>MinMaxScaler()</pre></div></div></div></div></div></div><div class=\"sk-parallel-item\"><div class=\"sk-item\"><div class=\"sk-label-container\"><div class=\"sk-label sk-toggleable\"><input class=\"sk-toggleable__control sk-hidden--visually\" id=\"sk-estimator-id-39\" type=\"checkbox\" ><label for=\"sk-estimator-id-39\" class=\"sk-toggleable__label sk-toggleable__label-arrow\">encoder</label><div class=\"sk-toggleable__content\"><pre>[&#x27;id&#x27;]</pre></div></div></div><div class=\"sk-serial\"><div class=\"sk-item\"><div class=\"sk-estimator sk-toggleable\"><input class=\"sk-toggleable__control sk-hidden--visually\" id=\"sk-estimator-id-40\" type=\"checkbox\" ><label for=\"sk-estimator-id-40\" class=\"sk-toggleable__label sk-toggleable__label-arrow\">OrdinalEncoder</label><div class=\"sk-toggleable__content\"><pre>OrdinalEncoder(categories=[array([&#x27;130690-017&#x27;, &#x27;133000-106&#x27;, &#x27;280648&#x27;, ..., &#x27;S80662&#x27;, &#x27;S80807&#x27;,\n",
       "       &#x27;S82260&#x27;], dtype=object)])</pre></div></div></div></div></div></div><div class=\"sk-parallel-item\"><div class=\"sk-item\"><div class=\"sk-label-container\"><div class=\"sk-label sk-toggleable\"><input class=\"sk-toggleable__control sk-hidden--visually\" id=\"sk-estimator-id-41\" type=\"checkbox\" ><label for=\"sk-estimator-id-41\" class=\"sk-toggleable__label sk-toggleable__label-arrow\">remainder</label><div class=\"sk-toggleable__content\"><pre></pre></div></div></div><div class=\"sk-serial\"><div class=\"sk-item\"><div class=\"sk-estimator sk-toggleable\"><input class=\"sk-toggleable__control sk-hidden--visually\" id=\"sk-estimator-id-42\" type=\"checkbox\" ><label for=\"sk-estimator-id-42\" class=\"sk-toggleable__label sk-toggleable__label-arrow\">passthrough</label><div class=\"sk-toggleable__content\"><pre>passthrough</pre></div></div></div></div></div></div></div></div></div></div>"
      ],
      "text/plain": [
       "ColumnTransformer(remainder='passthrough', sparse_threshold=0,\n",
       "                  transformers=[('min-max', MinMaxScaler(),\n",
       "                                 ['rating', 'reviews']),\n",
       "                                ('encoder',\n",
       "                                 OrdinalEncoder(categories=[array(['130690-017', '133000-106', '280648', ..., 'S80662', 'S80807',\n",
       "       'S82260'], dtype=object)]),\n",
       "                                 ['id'])])"
      ]
     },
     "execution_count": 87,
     "metadata": {},
     "output_type": "execute_result"
    }
   ],
   "source": [
    "from sklearn.compose import ColumnTransformer\n",
    "from sklearn.preprocessing import MinMaxScaler\n",
    "from sklearn.preprocessing import OrdinalEncoder\n",
    "from sklearn.feature_extraction.text import TfidfVectorizer\n",
    "from sklearn.preprocessing import LabelEncoder\n",
    "\n",
    "ids = np.sort(product['id'].unique())\n",
    "\n",
    "ct = ColumnTransformer(transformers=[('min-max', MinMaxScaler(), ['rating', 'reviews']),\n",
    "                                     ('encoder', OrdinalEncoder(categories=[ids]), ['id'])],\n",
    "                       remainder='passthrough', sparse_threshold=0)\n",
    "ct"
   ]
  },
  {
   "cell_type": "code",
   "execution_count": 88,
   "id": "8682415d-727f-471f-b0a2-2b8632dc792c",
   "metadata": {},
   "outputs": [],
   "source": [
    "cv = TfidfVectorizer(analyzer=analyzer)\n",
    "item_names_transformed = pd.DataFrame(cv.fit_transform(X_sampled['name']).toarray())\n",
    "item_description_transformed = pd.DataFrame(cv.fit_transform(X_sampled['description']).toarray())"
   ]
  },
  {
   "cell_type": "code",
   "execution_count": 181,
   "id": "90633534-4e4c-4a47-b5dd-a12a0d732f19",
   "metadata": {},
   "outputs": [],
   "source": [
    "X_transformed = pd.DataFrame(ct.fit_transform(X_sampled))\n",
    "X_transformed.drop(columns=[3, 4], inplace = True)\n",
    "X_preprocessed = pd.concat([X_transformed, item_names_transformed, item_description_transformed], axis=1, ignore_index=True)\n",
    "\n",
    "le = LabelEncoder()\n",
    "y_preprocessed = le.fit_transform(y_sampled)"
   ]
  },
  {
   "cell_type": "markdown",
   "id": "81a3dbcf-bd0e-4c3f-82eb-b8136b984656",
   "metadata": {},
   "source": [
    "## Dimensionality Reduction"
   ]
  },
  {
   "cell_type": "code",
   "execution_count": 182,
   "id": "0b24ee9e-4d94-4fef-8dc1-61515d083cc5",
   "metadata": {},
   "outputs": [],
   "source": [
    "from sklearn.cross_decomposition import PLSRegression\n",
    "\n",
    "pls = PLSRegression(n_components=10)\n",
    "pls.fit(X_preprocessed, y_preprocessed)\n",
    "X_reduced = pls.transform(X_preprocessed)"
   ]
  },
  {
   "cell_type": "code",
   "execution_count": 183,
   "id": "e8c8f892-748a-4426-9bb0-2741440bc42c",
   "metadata": {},
   "outputs": [
    {
     "data": {
      "text/plain": [
       "array([[-3.33518046,  0.06505158, -0.28751662, ..., -0.49371185,\n",
       "         0.39198553, -0.73198429],\n",
       "       [-0.13441144,  0.8810542 ,  3.89727542, ..., -0.17229536,\n",
       "         0.25768346,  0.93502355],\n",
       "       [-2.06061994, -0.85072416, -0.49183998, ...,  0.98851314,\n",
       "        -0.9311545 , -0.03761459],\n",
       "       ...,\n",
       "       [ 1.26393952, -1.26035567, -1.3416793 , ...,  2.14348532,\n",
       "         0.09150976,  2.37893004],\n",
       "       [ 3.73442878,  1.50828502, -1.07049423, ..., -0.48638271,\n",
       "         0.79565366, -0.15852678],\n",
       "       [ 2.20949918,  0.51420896, -3.68556506, ...,  1.32619092,\n",
       "        -0.2040909 , -3.19390094]])"
      ]
     },
     "execution_count": 183,
     "metadata": {},
     "output_type": "execute_result"
    }
   ],
   "source": [
    "X_reduced"
   ]
  },
  {
   "cell_type": "markdown",
   "id": "49694473-f565-4470-a1c3-ae7163a31017",
   "metadata": {},
   "source": [
    "## Model Selection"
   ]
  },
  {
   "cell_type": "code",
   "execution_count": 90,
   "id": "118a2b25-7e72-4cca-817a-2ed48bfb2f68",
   "metadata": {},
   "outputs": [],
   "source": [
    "from sklearn.mixture import GaussianMixture\n",
    "from sklearn.mixture import BayesianGaussianMixture\n",
    "from sklearn.cluster import KMeans\n",
    "from sklearn.cluster import MiniBatchKMeans\n",
    "from sklearn.cluster import AffinityPropagation\n",
    "from sklearn.cluster import AgglomerativeClustering\n",
    "from sklearn.cluster import BisectingKMeans\n",
    "from sklearn.cluster import DBSCAN\n",
    "from sklearn.cluster import Birch"
   ]
  },
  {
   "cell_type": "code",
   "execution_count": 91,
   "id": "68057582-53cd-4bee-9714-056126dec654",
   "metadata": {},
   "outputs": [],
   "source": [
    "from sklearn.model_selection import cross_val_score\n",
    "from sklearn.metrics import rand_score, make_scorer\n",
    "\n",
    "models = {\n",
    "    'gaussian_mix' : GaussianMixture(), \n",
    "    'bayesian_mix' : BayesianGaussianMixture(), \n",
    "    'kmeans' : KMeans(), \n",
    "    'minibatch' : MiniBatchKMeans(), \n",
    "    'affinity_propa' : AffinityPropagation(), \n",
    "    'agglomerative' : AgglomerativeClustering(), \n",
    "    'bisecting' : BisectingKMeans(), \n",
    "    'dbscan' : DBSCAN(), \n",
    "    'birch' : Birch(),\n",
    "}"
   ]
  },
  {
   "cell_type": "markdown",
   "id": "a9c121b9-0556-49db-8f6c-866d5315d445",
   "metadata": {},
   "source": [
    "#### Cross Validation Scores"
   ]
  },
  {
   "cell_type": "code",
   "execution_count": 184,
   "id": "49083e7d-20c6-47e6-ae7f-f810ef5a50c7",
   "metadata": {},
   "outputs": [
    {
     "name": "stdout",
     "output_type": "stream",
     "text": [
      "gaussian_mix: [1.         1.         0.49773756 1.         1.        ], 0.8995475113122172\n",
      "bayesian_mix: [1.         1.         0.49773756 1.         1.        ], 0.8995475113122172\n",
      "kmeans: [0.15586179 0.17597696 0.64372686 0.19012752 0.20220008], 0.27357864268420273\n",
      "minibatch: [0.14763472 0.17276841 0.63693953 0.18157137 0.17733499], 0.26324980418453425\n",
      "affinity_propa: [0.05306458 0.04751131 0.58885232 0.06351296 0.05691158], 0.16197055160794083\n",
      "agglomerative: [0.95557384 0.99095023 1.         0.92990539 0.51116646], 0.8775191824023411\n",
      "bisecting: [0.16034554 0.17313863 0.65228301 0.16264912 0.16214197], 0.262111651442836\n",
      "dbscan: [1.         1.         0.49773756 1.         1.        ], 0.8995475113122172\n",
      "birch: [0.47642945 0.89638009 0.87626491 0.58552036 0.56031548], 0.6789820601101827\n"
     ]
    }
   ],
   "source": [
    "for i in models.keys():\n",
    "    scores = cross_val_score(models[i], X_reduced, y_preprocessed, cv = 5, scoring = lambda estimator, X, y: rand_score(y, estimator.fit_predict(X)) )\n",
    "    print(f'{i}: {scores}, {scores.mean()}')"
   ]
  },
  {
   "cell_type": "markdown",
   "id": "7b9d8090-8ebc-4932-91d1-06920df54d6a",
   "metadata": {},
   "source": [
    "## Model Building and Evaluation"
   ]
  },
  {
   "cell_type": "code",
   "execution_count": 185,
   "id": "ff533172-5aa2-4612-8eea-9ace0da1c9a6",
   "metadata": {},
   "outputs": [
    {
     "name": "stdout",
     "output_type": "stream",
     "text": [
      "Default model score:  0.974936602415021\n"
     ]
    }
   ],
   "source": [
    "model = AgglomerativeClustering()\n",
    "\n",
    "y_pred = model.fit_predict(X_reduced)\n",
    "\n",
    "print('Default model score: ', rand_score(y_preprocessed, y_pred))"
   ]
  },
  {
   "cell_type": "code",
   "execution_count": 186,
   "id": "1fd87656-a151-46a9-8a37-9e2b5b4eb9e2",
   "metadata": {},
   "outputs": [
    {
     "data": {
      "image/png": "[encoded data removed]",
      "text/plain": [
       "<Figure size 450x300 with 1 Axes>"
      ]
     },
     "metadata": {},
     "output_type": "display_data"
    }
   ],
   "source": [
    "sns.displot(y_pred, height=3, aspect=1.5)\n",
    "plt.title('Adidas vs Nike Prediction')\n",
    "plt.show()"
   ]
  },
  {
   "cell_type": "code",
   "execution_count": null,
   "id": "d3267e7e-6813-4147-bddc-afd54c9c9dcb",
   "metadata": {},
   "outputs": [],
   "source": []
  }
 ],
 "metadata": {
  "kernelspec": {
   "display_name": "Python 3 (ipykernel)",
   "language": "python",
   "name": "python3"
  },
  "language_info": {
   "codemirror_mode": {
    "name": "ipython",
    "version": 3
   },
   "file_extension": ".py",
   "mimetype": "text/x-python",
   "name": "python",
   "nbconvert_exporter": "python",
   "pygments_lexer": "ipython3",
   "version": "3.11.7"
  }
 },
 "nbformat": 4,
 "nbformat_minor": 5
}
